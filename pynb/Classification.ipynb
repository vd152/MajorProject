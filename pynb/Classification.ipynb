{
  "cells": [
    {
      "cell_type": "markdown",
      "metadata": {
        "colab_type": "text",
        "id": "view-in-github"
      },
      "source": [
        "<a href=\"https://colab.research.google.com/github/Garvit-k/flower-classifier/blob/master/Flower_Classification.ipynb\" target=\"_parent\"><img src=\"https://colab.research.google.com/assets/colab-badge.svg\" alt=\"Open In Colab\"/></a>"
      ]
    },
    {
      "cell_type": "code",
      "execution_count": 56,
      "metadata": {
        "colab": {},
        "colab_type": "code",
        "id": "iRo90eIXHF58"
      },
      "outputs": [],
      "source": [
        "#import nessarary libraries\n",
        "import tensorflow as tf\n",
        "from tensorflow import keras\n",
        "from keras.models import load_model\n",
        "\n",
        "import matplotlib.pyplot as plt\n",
        "import numpy as np\n",
        "import os\n",
        "import cv2\n",
        "import pandas\n",
        "import os\n",
        "import random\n",
        "from tqdm import tqdm\n",
        "import tensorflowjs as tfjs"
      ]
    },
    {
      "cell_type": "code",
      "execution_count": 57,
      "metadata": {
        "colab": {
          "base_uri": "https://localhost:8080/",
          "height": 35
        },
        "colab_type": "code",
        "id": "W7W9O4OLHHG7",
        "outputId": "1e9fffb4-a4ab-41b5-881d-09ec1ba2dea6"
      },
      "outputs": [
        {
          "name": "stdout",
          "output_type": "stream",
          "text": [
            "['bird', 'elephant']\n"
          ]
        }
      ],
      "source": [
        "#path = 'C:\\\\Users\\\\Vidhi\\\\Desktop\\\\major project\\\\Flower_Classification_Tensorflow.js\\\\train\\\\data\\\\train'\n",
        "path = 'C:\\\\Users\\\\Vidhi\\\\Desktop\\\\major project\\\\Application\\\\data\\\\uploads'\n",
        "folders = os.listdir(path)\n",
        "print(folders)"
      ]
    },
    {
      "cell_type": "code",
      "execution_count": 58,
      "metadata": {
        "colab": {},
        "colab_type": "code",
        "id": "lhohDqo7H4DY"
      },
      "outputs": [],
      "source": [
        "image_names =[]\n",
        "train_lables =[]\n",
        "train_images =[]"
      ]
    },
    {
      "cell_type": "code",
      "execution_count": 59,
      "metadata": {
        "colab": {
          "base_uri": "https://localhost:8080/",
          "height": 128
        },
        "colab_type": "code",
        "id": "OS3_Y3bVIgx5",
        "outputId": "4bdcd97f-d771-4c07-f02a-2996956973ca"
      },
      "outputs": [
        {
          "name": "stdout",
          "output_type": "stream",
          "text": [
            "bird\n",
            "elephant\n",
            "73728\n"
          ]
        }
      ],
      "source": [
        "# resizing and enumrating lists and transform it into numpy array\n",
        "\n",
        "size = 64,64\n",
        "\n",
        "for folder in folders:\n",
        "  print(folder)\n",
        "  for file in os.listdir(os.path.join(path,folder)):\n",
        "    if file.endswith('jpg') or file.endswith('png'):\n",
        "      image_names.append(os.path.join(path,folder,file))\n",
        "      train_lables.append(folder)\n",
        "      img = cv2.imread(os.path.join(path,folder,file))\n",
        "      img = cv2.resize(img,size)\n",
        "      train_images.append(img)\n",
        "    else:\n",
        "      continue\n",
        "      \n",
        "train = np.array(train_images)\n",
        "print(train.size)\n"
      ]
    },
    {
      "cell_type": "code",
      "execution_count": 60,
      "metadata": {
        "colab": {},
        "colab_type": "code",
        "id": "wWTopktvLP_0"
      },
      "outputs": [],
      "source": [
        "train = train.astype('float32') / 255.0\n",
        "\n",
        "# extract lables\n",
        "label_dummies = pandas.get_dummies(train_lables)\n",
        "labels =  label_dummies.values.argmax(1)"
      ]
    },
    {
      "cell_type": "code",
      "execution_count": 61,
      "metadata": {
        "colab": {
          "base_uri": "https://localhost:8080/",
          "height": 54
        },
        "colab_type": "code",
        "id": "umiIcrexQItK",
        "outputId": "5409f318-230f-46da-e177-a333573459d4"
      },
      "outputs": [
        {
          "name": "stdout",
          "output_type": "stream",
          "text": [
            "['bird' 'elephant']\n",
            "[0 1]\n"
          ]
        }
      ],
      "source": [
        "print(pandas.unique(train_lables))\n",
        "print(pandas.unique(labels))"
      ]
    },
    {
      "cell_type": "code",
      "execution_count": 62,
      "metadata": {
        "colab": {},
        "colab_type": "code",
        "id": "Oqqq9lOUQXlI"
      },
      "outputs": [],
      "source": [
        "# Shuffle the labels and images randomly for better results\n",
        "\n",
        "union_list = list(zip(train, labels))\n",
        "random.shuffle(union_list)\n",
        "train,labels = zip(*union_list)"
      ]
    },
    {
      "cell_type": "code",
      "execution_count": 63,
      "metadata": {
        "colab": {},
        "colab_type": "code",
        "id": "z357QmP8XLiH"
      },
      "outputs": [],
      "source": [
        "# Convert the shuffled list to numpy array type\n",
        "train = np.array(train)\n",
        "labels = np.array(labels)"
      ]
    },
    {
      "cell_type": "code",
      "execution_count": 64,
      "metadata": {
        "colab": {
          "base_uri": "https://localhost:8080/",
          "height": 92
        },
        "colab_type": "code",
        "id": "whpxJXvAXPsL",
        "outputId": "508b2747-4d57-410c-ab67-c86decbcb141"
      },
      "outputs": [],
      "source": [
        "# Building a model\n",
        "model = keras.Sequential([\n",
        "    keras.layers.Flatten(input_shape = (64,64,3)),\n",
        "    keras.layers.Dense(128,activation = tf.nn.tanh),\n",
        "    keras.layers.Dense(5,activation = tf.nn.softmax)\n",
        "])"
      ]
    },
    {
      "cell_type": "code",
      "execution_count": 65,
      "metadata": {
        "colab": {},
        "colab_type": "code",
        "id": "PTfX4sgkYYPP"
      },
      "outputs": [
        {
          "name": "stderr",
          "output_type": "stream",
          "text": [
            "C:\\Users\\Vidhi\\AppData\\Local\\Programs\\Python\\Python38\\lib\\site-packages\\keras\\optimizer_v2\\adam.py:105: UserWarning: The `lr` argument is deprecated, use `learning_rate` instead.\n",
            "  super(Adam, self).__init__(name, **kwargs)\n"
          ]
        }
      ],
      "source": [
        "# model parameters\n",
        "model.compile(optimizer = keras.optimizers.Adam(lr=0.001, beta_1=0.9, beta_2=0.999, epsilon=None, decay=0.0, amsgrad=False),\n",
        "              loss = 'sparse_categorical_crossentropy',\n",
        "              metrics = ['accuracy']\n",
        ")"
      ]
    },
    {
      "cell_type": "code",
      "execution_count": 66,
      "metadata": {
        "colab": {
          "base_uri": "https://localhost:8080/",
          "height": 2990
        },
        "colab_type": "code",
        "id": "oAqOLgB-ZCxb",
        "outputId": "b3a51bcb-0834-4596-86e4-8d113803d197"
      },
      "outputs": [
        {
          "name": "stdout",
          "output_type": "stream",
          "text": [
            "Epoch 1/80\n",
            "1/1 [==============================] - 0s 326ms/step - loss: 2.0280 - accuracy: 0.0000e+00\n",
            "Epoch 2/80\n",
            "1/1 [==============================] - 0s 12ms/step - loss: 1.8745 - accuracy: 0.6667\n",
            "Epoch 3/80\n",
            "1/1 [==============================] - 0s 11ms/step - loss: 1.8197 - accuracy: 0.6667\n",
            "Epoch 4/80\n",
            "1/1 [==============================] - 0s 11ms/step - loss: 1.7193 - accuracy: 0.6667\n",
            "Epoch 5/80\n",
            "1/1 [==============================] - 0s 13ms/step - loss: 1.6498 - accuracy: 0.6667\n",
            "Epoch 6/80\n",
            "1/1 [==============================] - 0s 10ms/step - loss: 1.5769 - accuracy: 0.6667\n",
            "Epoch 7/80\n",
            "1/1 [==============================] - 0s 11ms/step - loss: 1.5020 - accuracy: 0.6667\n",
            "Epoch 8/80\n",
            "1/1 [==============================] - 0s 14ms/step - loss: 1.4261 - accuracy: 0.6667\n",
            "Epoch 9/80\n",
            "1/1 [==============================] - 0s 13ms/step - loss: 1.3499 - accuracy: 0.6667\n",
            "Epoch 10/80\n",
            "1/1 [==============================] - 0s 11ms/step - loss: 1.2738 - accuracy: 0.6667\n",
            "Epoch 11/80\n",
            "1/1 [==============================] - 0s 13ms/step - loss: 1.1986 - accuracy: 0.6667\n",
            "Epoch 12/80\n",
            "1/1 [==============================] - 0s 13ms/step - loss: 1.1246 - accuracy: 0.6667\n",
            "Epoch 13/80\n",
            "1/1 [==============================] - 0s 11ms/step - loss: 1.0527 - accuracy: 0.6667\n",
            "Epoch 14/80\n",
            "1/1 [==============================] - 0s 10ms/step - loss: 0.9834 - accuracy: 0.6667\n",
            "Epoch 15/80\n",
            "1/1 [==============================] - 0s 14ms/step - loss: 0.9178 - accuracy: 0.6667\n",
            "Epoch 16/80\n",
            "1/1 [==============================] - 0s 12ms/step - loss: 0.8567 - accuracy: 0.6667\n",
            "Epoch 17/80\n",
            "1/1 [==============================] - 0s 11ms/step - loss: 0.8011 - accuracy: 0.6667\n",
            "Epoch 18/80\n",
            "1/1 [==============================] - 0s 12ms/step - loss: 0.7522 - accuracy: 0.6667\n",
            "Epoch 19/80\n",
            "1/1 [==============================] - 0s 15ms/step - loss: 0.7111 - accuracy: 0.6667\n",
            "Epoch 20/80\n",
            "1/1 [==============================] - 0s 10ms/step - loss: 0.6787 - accuracy: 0.6667\n",
            "Epoch 21/80\n",
            "1/1 [==============================] - 0s 12ms/step - loss: 0.6556 - accuracy: 0.6667\n",
            "Epoch 22/80\n",
            "1/1 [==============================] - 0s 13ms/step - loss: 0.6419 - accuracy: 0.6667\n",
            "Epoch 23/80\n",
            "1/1 [==============================] - 0s 10ms/step - loss: 0.6371 - accuracy: 0.6667\n",
            "Epoch 24/80\n",
            "1/1 [==============================] - 0s 9ms/step - loss: 0.6400 - accuracy: 0.6667\n",
            "Epoch 25/80\n",
            "1/1 [==============================] - 0s 13ms/step - loss: 0.6486 - accuracy: 0.6667\n",
            "Epoch 26/80\n",
            "1/1 [==============================] - 0s 11ms/step - loss: 0.6607 - accuracy: 0.6667\n",
            "Epoch 27/80\n",
            "1/1 [==============================] - 0s 13ms/step - loss: 0.6739 - accuracy: 0.6667\n",
            "Epoch 28/80\n",
            "1/1 [==============================] - 0s 15ms/step - loss: 0.6862 - accuracy: 0.6667\n",
            "Epoch 29/80\n",
            "1/1 [==============================] - 0s 14ms/step - loss: 0.6959 - accuracy: 0.3333\n",
            "Epoch 30/80\n",
            "1/1 [==============================] - 0s 14ms/step - loss: 0.7020 - accuracy: 0.3333\n",
            "Epoch 31/80\n",
            "1/1 [==============================] - 0s 12ms/step - loss: 0.7041 - accuracy: 0.3333\n",
            "Epoch 32/80\n",
            "1/1 [==============================] - 0s 13ms/step - loss: 0.7022 - accuracy: 0.3333\n",
            "Epoch 33/80\n",
            "1/1 [==============================] - 0s 13ms/step - loss: 0.6970 - accuracy: 0.3333\n",
            "Epoch 34/80\n",
            "1/1 [==============================] - 0s 14ms/step - loss: 0.6894 - accuracy: 0.6667\n",
            "Epoch 35/80\n",
            "1/1 [==============================] - 0s 13ms/step - loss: 0.6802 - accuracy: 0.6667\n",
            "Epoch 36/80\n",
            "1/1 [==============================] - 0s 11ms/step - loss: 0.6705 - accuracy: 0.6667\n",
            "Epoch 37/80\n",
            "1/1 [==============================] - 0s 15ms/step - loss: 0.6612 - accuracy: 0.6667\n",
            "Epoch 38/80\n",
            "1/1 [==============================] - 0s 13ms/step - loss: 0.6530 - accuracy: 0.6667\n",
            "Epoch 39/80\n",
            "1/1 [==============================] - 0s 15ms/step - loss: 0.6463 - accuracy: 0.6667\n",
            "Epoch 40/80\n",
            "1/1 [==============================] - 0s 10ms/step - loss: 0.6415 - accuracy: 0.6667\n",
            "Epoch 41/80\n",
            "1/1 [==============================] - 0s 11ms/step - loss: 0.6385 - accuracy: 0.6667\n",
            "Epoch 42/80\n",
            "1/1 [==============================] - 0s 13ms/step - loss: 0.6371 - accuracy: 0.6667\n",
            "Epoch 43/80\n",
            "1/1 [==============================] - 0s 12ms/step - loss: 0.6372 - accuracy: 0.6667\n",
            "Epoch 44/80\n",
            "1/1 [==============================] - 0s 10ms/step - loss: 0.6382 - accuracy: 0.6667\n",
            "Epoch 45/80\n",
            "1/1 [==============================] - 0s 16ms/step - loss: 0.6399 - accuracy: 0.6667\n",
            "Epoch 46/80\n",
            "1/1 [==============================] - 0s 15ms/step - loss: 0.6418 - accuracy: 0.6667\n",
            "Epoch 47/80\n",
            "1/1 [==============================] - 0s 15ms/step - loss: 0.6436 - accuracy: 0.6667\n",
            "Epoch 48/80\n",
            "1/1 [==============================] - 0s 11ms/step - loss: 0.6451 - accuracy: 0.6667\n",
            "Epoch 49/80\n",
            "1/1 [==============================] - 0s 14ms/step - loss: 0.6461 - accuracy: 0.6667\n",
            "Epoch 50/80\n",
            "1/1 [==============================] - 0s 17ms/step - loss: 0.6466 - accuracy: 0.6667\n",
            "Epoch 51/80\n",
            "1/1 [==============================] - 0s 13ms/step - loss: 0.6465 - accuracy: 0.6667\n",
            "Epoch 52/80\n",
            "1/1 [==============================] - 0s 15ms/step - loss: 0.6459 - accuracy: 0.6667\n",
            "Epoch 53/80\n",
            "1/1 [==============================] - 0s 10ms/step - loss: 0.6448 - accuracy: 0.6667\n",
            "Epoch 54/80\n",
            "1/1 [==============================] - 0s 13ms/step - loss: 0.6435 - accuracy: 0.6667\n",
            "Epoch 55/80\n",
            "1/1 [==============================] - 0s 11ms/step - loss: 0.6421 - accuracy: 0.6667\n",
            "Epoch 56/80\n",
            "1/1 [==============================] - 0s 15ms/step - loss: 0.6407 - accuracy: 0.6667\n",
            "Epoch 57/80\n",
            "1/1 [==============================] - 0s 14ms/step - loss: 0.6394 - accuracy: 0.6667\n",
            "Epoch 58/80\n",
            "1/1 [==============================] - 0s 12ms/step - loss: 0.6384 - accuracy: 0.6667\n",
            "Epoch 59/80\n",
            "1/1 [==============================] - 0s 11ms/step - loss: 0.6376 - accuracy: 0.6667\n",
            "Epoch 60/80\n",
            "1/1 [==============================] - 0s 13ms/step - loss: 0.6371 - accuracy: 0.6667\n",
            "Epoch 61/80\n",
            "1/1 [==============================] - 0s 14ms/step - loss: 0.6369 - accuracy: 0.6667\n",
            "Epoch 62/80\n",
            "1/1 [==============================] - 0s 11ms/step - loss: 0.6370 - accuracy: 0.6667\n",
            "Epoch 63/80\n",
            "1/1 [==============================] - 0s 13ms/step - loss: 0.6372 - accuracy: 0.6667\n",
            "Epoch 64/80\n",
            "1/1 [==============================] - 0s 14ms/step - loss: 0.6375 - accuracy: 0.6667\n",
            "Epoch 65/80\n",
            "1/1 [==============================] - 0s 12ms/step - loss: 0.6378 - accuracy: 0.6667\n",
            "Epoch 66/80\n",
            "1/1 [==============================] - 0s 10ms/step - loss: 0.6381 - accuracy: 0.6667\n",
            "Epoch 67/80\n",
            "1/1 [==============================] - 0s 12ms/step - loss: 0.6383 - accuracy: 0.6667\n",
            "Epoch 68/80\n",
            "1/1 [==============================] - 0s 10ms/step - loss: 0.6384 - accuracy: 0.6667\n",
            "Epoch 69/80\n",
            "1/1 [==============================] - 0s 10ms/step - loss: 0.6384 - accuracy: 0.6667\n",
            "Epoch 70/80\n",
            "1/1 [==============================] - 0s 11ms/step - loss: 0.6383 - accuracy: 0.6667\n",
            "Epoch 71/80\n",
            "1/1 [==============================] - 0s 12ms/step - loss: 0.6381 - accuracy: 0.6667\n",
            "Epoch 72/80\n",
            "1/1 [==============================] - 0s 10ms/step - loss: 0.6379 - accuracy: 0.6667\n",
            "Epoch 73/80\n",
            "1/1 [==============================] - 0s 12ms/step - loss: 0.6376 - accuracy: 0.6667\n",
            "Epoch 74/80\n",
            "1/1 [==============================] - 0s 14ms/step - loss: 0.6373 - accuracy: 0.6667\n",
            "Epoch 75/80\n",
            "1/1 [==============================] - 0s 10ms/step - loss: 0.6371 - accuracy: 0.6667\n",
            "Epoch 76/80\n",
            "1/1 [==============================] - 0s 12ms/step - loss: 0.6370 - accuracy: 0.6667\n",
            "Epoch 77/80\n",
            "1/1 [==============================] - 0s 11ms/step - loss: 0.6369 - accuracy: 0.6667\n",
            "Epoch 78/80\n",
            "1/1 [==============================] - 0s 11ms/step - loss: 0.6369 - accuracy: 0.6667\n",
            "Epoch 79/80\n",
            "1/1 [==============================] - 0s 11ms/step - loss: 0.6369 - accuracy: 0.6667\n",
            "Epoch 80/80\n",
            "1/1 [==============================] - 0s 10ms/step - loss: 0.6369 - accuracy: 0.6667\n"
          ]
        },
        {
          "data": {
            "text/plain": [
              "<keras.callbacks.History at 0x1f13c096b80>"
            ]
          },
          "execution_count": 66,
          "metadata": {},
          "output_type": "execute_result"
        }
      ],
      "source": [
        "model.fit(train,labels,epochs = 80)"
      ]
    },
    {
      "cell_type": "code",
      "execution_count": 67,
      "metadata": {
        "colab": {
          "base_uri": "https://localhost:8080/",
          "height": 35
        },
        "colab_type": "code",
        "id": "HaQhBfRhZK80",
        "outputId": "f1c2e8e6-616b-40e1-8ce0-2dce209e42c2"
      },
      "outputs": [],
      "source": [
        "# Saving model\n",
        "\n",
        "model.save('mymodel.h5')\n",
        "tfjs.converters.save_keras_model(model, \"tfjsmodel\")"
      ]
    },
    {
      "cell_type": "code",
      "execution_count": 72,
      "metadata": {},
      "outputs": [
        {
          "name": "stdout",
          "output_type": "stream",
          "text": [
            "elephant\n"
          ]
        }
      ],
      "source": [
        "model2 = keras.models.load_model('./mymodel.h5')\n",
        "#p = 'C:\\\\Users\\\\Vidhi\\\\Desktop\\\\major project\\\\Flower_Classification_Tensorflow.js\\\\train\\\\data\\\\train\\\\dandelion\\\\10200780773_c6051a7d71_n.jpg'\n",
        "p = 'C:\\\\Users\\\\Vidhi\\\\Desktop\\\\major project\\\\Application\\\\data\\\\uploads\\\\elephant\\\\elephant-1648136912076.png'\n",
        "finalimgs = []\n",
        "size = 64,64\n",
        "\n",
        "imgf = cv2.imread(p)\n",
        "imgf = cv2.resize(imgf,size)\n",
        "\n",
        "finalimgs.append(imgf)\n",
        "trainp = np.array(finalimgs)\n",
        "\n",
        "trainp = trainp.astype('float32') / 255.0\n",
        "\n",
        "pred = model2.predict(trainp)\n",
        "cla=np.argmax(pred,axis=1)\n",
        "print(pandas.unique(train_lables)[cla[0]])"
      ]
    }
  ],
  "metadata": {
    "accelerator": "GPU",
    "colab": {
      "collapsed_sections": [],
      "include_colab_link": true,
      "name": "Flower Classification.ipynb",
      "provenance": [],
      "version": "0.3.2"
    },
    "kernelspec": {
      "display_name": "Python 3",
      "name": "python3"
    },
    "language_info": {
      "codemirror_mode": {
        "name": "ipython",
        "version": 3
      },
      "file_extension": ".py",
      "mimetype": "text/x-python",
      "name": "python",
      "nbconvert_exporter": "python",
      "pygments_lexer": "ipython3",
      "version": "3.8.3"
    }
  },
  "nbformat": 4,
  "nbformat_minor": 0
}
