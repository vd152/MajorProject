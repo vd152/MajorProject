{
  "cells": [
    {
      "cell_type": "markdown",
      "metadata": {
        "colab_type": "text",
        "id": "view-in-github"
      },
      "source": [
        "<a href=\"https://colab.research.google.com/github/Garvit-k/flower-classifier/blob/master/Flower_Classification.ipynb\" target=\"_parent\"><img src=\"https://colab.research.google.com/assets/colab-badge.svg\" alt=\"Open In Colab\"/></a>"
      ]
    },
    {
      "cell_type": "code",
      "execution_count": 50,
      "metadata": {
        "colab": {},
        "colab_type": "code",
        "id": "iRo90eIXHF58"
      },
      "outputs": [],
      "source": [
        "#import nessarary libraries\n",
        "import tensorflow as tf\n",
        "from tensorflow import keras\n",
        "from keras.models import load_model\n",
        "\n",
        "import matplotlib.pyplot as plt\n",
        "import numpy as np\n",
        "import os\n",
        "import cv2\n",
        "import pandas\n",
        "import os\n",
        "import random\n",
        "from tqdm import tqdm\n",
        "import tensorflowjs as tfjs"
      ]
    },
    {
      "cell_type": "code",
      "execution_count": 51,
      "metadata": {
        "colab": {
          "base_uri": "https://localhost:8080/",
          "height": 35
        },
        "colab_type": "code",
        "id": "W7W9O4OLHHG7",
        "outputId": "1e9fffb4-a4ab-41b5-881d-09ec1ba2dea6"
      },
      "outputs": [
        {
          "name": "stdout",
          "output_type": "stream",
          "text": [
            "['alarm_clock', 'angel', 'ant', 'backpack', 'basket']\n"
          ]
        }
      ],
      "source": [
        "#path = 'C:\\\\Users\\\\Vidhi\\\\Desktop\\\\major project\\\\Flower_Classification_Tensorflow.js\\\\train\\\\data\\\\train'\n",
        "path = 'C:\\\\Users\\\\Vidhi\\\\Desktop\\\\major project\\\\Application\\\\data\\\\uploads2'\n",
        "folders = os.listdir(path)\n",
        "print(folders)"
      ]
    },
    {
      "cell_type": "code",
      "execution_count": 52,
      "metadata": {
        "colab": {},
        "colab_type": "code",
        "id": "lhohDqo7H4DY"
      },
      "outputs": [],
      "source": [
        "image_names =[]\n",
        "train_lables =[]\n",
        "train_images =[]"
      ]
    },
    {
      "cell_type": "code",
      "execution_count": 53,
      "metadata": {
        "colab": {
          "base_uri": "https://localhost:8080/",
          "height": 128
        },
        "colab_type": "code",
        "id": "OS3_Y3bVIgx5",
        "outputId": "4bdcd97f-d771-4c07-f02a-2996956973ca"
      },
      "outputs": [
        {
          "name": "stdout",
          "output_type": "stream",
          "text": [
            "alarm_clock\n",
            "angel\n",
            "ant\n",
            "backpack\n",
            "basket\n",
            "122880\n"
          ]
        }
      ],
      "source": [
        "# resizing and enumrating lists and transform it into numpy array\n",
        "\n",
        "size = 64,64\n",
        "\n",
        "for folder in folders:\n",
        "  print(folder)\n",
        "  for file in os.listdir(os.path.join(path,folder)):\n",
        "    if file.endswith('jpg') or file.endswith('png'):\n",
        "      image_names.append(os.path.join(path,folder,file))\n",
        "      train_lables.append(folder)\n",
        "      img = cv2.imread(os.path.join(path,folder,file))\n",
        "      img = cv2.resize(img,size)\n",
        "      train_images.append(img)\n",
        "    else:\n",
        "      continue\n",
        "      \n",
        "train = np.array(train_images)\n",
        "print(train.size)\n"
      ]
    },
    {
      "cell_type": "code",
      "execution_count": 54,
      "metadata": {
        "colab": {},
        "colab_type": "code",
        "id": "wWTopktvLP_0"
      },
      "outputs": [],
      "source": [
        "train = train.astype('float32') / 255.0\n",
        "\n",
        "# extract lables\n",
        "label_dummies = pandas.get_dummies(train_lables)\n",
        "labels =  label_dummies.values.argmax(1)"
      ]
    },
    {
      "cell_type": "code",
      "execution_count": 55,
      "metadata": {
        "colab": {
          "base_uri": "https://localhost:8080/",
          "height": 54
        },
        "colab_type": "code",
        "id": "umiIcrexQItK",
        "outputId": "5409f318-230f-46da-e177-a333573459d4"
      },
      "outputs": [
        {
          "name": "stdout",
          "output_type": "stream",
          "text": [
            "['alarm_clock' 'angel' 'ant' 'backpack' 'basket']\n",
            "[0 1 2 3 4]\n"
          ]
        }
      ],
      "source": [
        "print(pandas.unique(train_lables))\n",
        "print(pandas.unique(labels))"
      ]
    },
    {
      "cell_type": "code",
      "execution_count": 56,
      "metadata": {
        "colab": {},
        "colab_type": "code",
        "id": "Oqqq9lOUQXlI"
      },
      "outputs": [],
      "source": [
        "# Shuffle the labels and images randomly for better results\n",
        "\n",
        "union_list = list(zip(train, labels))\n",
        "random.shuffle(union_list)\n",
        "train,labels = zip(*union_list)"
      ]
    },
    {
      "cell_type": "code",
      "execution_count": 57,
      "metadata": {
        "colab": {},
        "colab_type": "code",
        "id": "z357QmP8XLiH"
      },
      "outputs": [],
      "source": [
        "# Convert the shuffled list to numpy array type\n",
        "train = np.array(train)\n",
        "labels = np.array(labels)"
      ]
    },
    {
      "cell_type": "code",
      "execution_count": 58,
      "metadata": {
        "colab": {
          "base_uri": "https://localhost:8080/",
          "height": 92
        },
        "colab_type": "code",
        "id": "whpxJXvAXPsL",
        "outputId": "508b2747-4d57-410c-ab67-c86decbcb141"
      },
      "outputs": [],
      "source": [
        "# Building a model\n",
        "model = keras.Sequential([\n",
        "    keras.layers.Flatten(input_shape = (64,64,3)),\n",
        "    keras.layers.Dense(128,activation = tf.nn.tanh),\n",
        "    keras.layers.Dense(31,activation = tf.nn.softmax)\n",
        "])"
      ]
    },
    {
      "cell_type": "code",
      "execution_count": 59,
      "metadata": {
        "colab": {},
        "colab_type": "code",
        "id": "PTfX4sgkYYPP"
      },
      "outputs": [],
      "source": [
        "# model parameters\n",
        "model.compile(optimizer = keras.optimizers.Adam(lr=0.001, beta_1=0.9, beta_2=0.999, epsilon=None, decay=0.0, amsgrad=False),\n",
        "              loss = 'sparse_categorical_crossentropy',\n",
        "              metrics = ['accuracy']\n",
        ")"
      ]
    },
    {
      "cell_type": "code",
      "execution_count": 60,
      "metadata": {
        "colab": {
          "base_uri": "https://localhost:8080/",
          "height": 2990
        },
        "colab_type": "code",
        "id": "oAqOLgB-ZCxb",
        "outputId": "b3a51bcb-0834-4596-86e4-8d113803d197"
      },
      "outputs": [
        {
          "name": "stdout",
          "output_type": "stream",
          "text": [
            "Epoch 1/80\n",
            "1/1 [==============================] - 0s 350ms/step - loss: 4.4726 - accuracy: 0.0000e+00\n",
            "Epoch 2/80\n",
            "1/1 [==============================] - 0s 9ms/step - loss: 2.0258 - accuracy: 0.3000\n",
            "Epoch 3/80\n",
            "1/1 [==============================] - 0s 11ms/step - loss: 1.9876 - accuracy: 0.3000\n",
            "Epoch 4/80\n",
            "1/1 [==============================] - 0s 12ms/step - loss: 1.9440 - accuracy: 0.3000\n",
            "Epoch 5/80\n",
            "1/1 [==============================] - 0s 11ms/step - loss: 1.9023 - accuracy: 0.3000\n",
            "Epoch 6/80\n",
            "1/1 [==============================] - 0s 15ms/step - loss: 1.8656 - accuracy: 0.3000\n",
            "Epoch 7/80\n",
            "1/1 [==============================] - 0s 14ms/step - loss: 1.8348 - accuracy: 0.3000\n",
            "Epoch 8/80\n",
            "1/1 [==============================] - 0s 12ms/step - loss: 1.8099 - accuracy: 0.3000\n",
            "Epoch 9/80\n",
            "1/1 [==============================] - 0s 12ms/step - loss: 1.7902 - accuracy: 0.3000\n",
            "Epoch 10/80\n",
            "1/1 [==============================] - 0s 14ms/step - loss: 1.7746 - accuracy: 0.3000\n",
            "Epoch 11/80\n",
            "1/1 [==============================] - 0s 16ms/step - loss: 1.7621 - accuracy: 0.3000\n",
            "Epoch 12/80\n",
            "1/1 [==============================] - 0s 15ms/step - loss: 1.7513 - accuracy: 0.3000\n",
            "Epoch 13/80\n",
            "1/1 [==============================] - 0s 14ms/step - loss: 1.7413 - accuracy: 0.3000\n",
            "Epoch 14/80\n",
            "1/1 [==============================] - 0s 12ms/step - loss: 1.7308 - accuracy: 0.2000\n",
            "Epoch 15/80\n",
            "1/1 [==============================] - 0s 16ms/step - loss: 1.7192 - accuracy: 0.2000\n",
            "Epoch 16/80\n",
            "1/1 [==============================] - 0s 13ms/step - loss: 1.7061 - accuracy: 0.2000\n",
            "Epoch 17/80\n",
            "1/1 [==============================] - 0s 16ms/step - loss: 1.6918 - accuracy: 0.2000\n",
            "Epoch 18/80\n",
            "1/1 [==============================] - 0s 13ms/step - loss: 1.6765 - accuracy: 0.2000\n",
            "Epoch 19/80\n",
            "1/1 [==============================] - 0s 19ms/step - loss: 1.6610 - accuracy: 0.2000\n",
            "Epoch 20/80\n",
            "1/1 [==============================] - 0s 20ms/step - loss: 1.6457 - accuracy: 0.3000\n",
            "Epoch 21/80\n",
            "1/1 [==============================] - 0s 15ms/step - loss: 1.6312 - accuracy: 0.3000\n",
            "Epoch 22/80\n",
            "1/1 [==============================] - 0s 15ms/step - loss: 1.6180 - accuracy: 0.3000\n",
            "Epoch 23/80\n",
            "1/1 [==============================] - 0s 15ms/step - loss: 1.6065 - accuracy: 0.3000\n",
            "Epoch 24/80\n",
            "1/1 [==============================] - 0s 12ms/step - loss: 1.5967 - accuracy: 0.3000\n",
            "Epoch 25/80\n",
            "1/1 [==============================] - 0s 10ms/step - loss: 1.5890 - accuracy: 0.3000\n",
            "Epoch 26/80\n",
            "1/1 [==============================] - 0s 15ms/step - loss: 1.5831 - accuracy: 0.3000\n",
            "Epoch 27/80\n",
            "1/1 [==============================] - 0s 15ms/step - loss: 1.5790 - accuracy: 0.3000\n",
            "Epoch 28/80\n",
            "1/1 [==============================] - 0s 13ms/step - loss: 1.5765 - accuracy: 0.3000\n",
            "Epoch 29/80\n",
            "1/1 [==============================] - 0s 11ms/step - loss: 1.5752 - accuracy: 0.3000\n",
            "Epoch 30/80\n",
            "1/1 [==============================] - 0s 13ms/step - loss: 1.5750 - accuracy: 0.3000\n",
            "Epoch 31/80\n",
            "1/1 [==============================] - 0s 12ms/step - loss: 1.5754 - accuracy: 0.3000\n",
            "Epoch 32/80\n",
            "1/1 [==============================] - 0s 11ms/step - loss: 1.5762 - accuracy: 0.3000\n",
            "Epoch 33/80\n",
            "1/1 [==============================] - 0s 10ms/step - loss: 1.5771 - accuracy: 0.3000\n",
            "Epoch 34/80\n",
            "1/1 [==============================] - 0s 14ms/step - loss: 1.5781 - accuracy: 0.3000\n",
            "Epoch 35/80\n",
            "1/1 [==============================] - 0s 13ms/step - loss: 1.5788 - accuracy: 0.3000\n",
            "Epoch 36/80\n",
            "1/1 [==============================] - 0s 12ms/step - loss: 1.5791 - accuracy: 0.3000\n",
            "Epoch 37/80\n",
            "1/1 [==============================] - 0s 10ms/step - loss: 1.5790 - accuracy: 0.3000\n",
            "Epoch 38/80\n",
            "1/1 [==============================] - 0s 11ms/step - loss: 1.5784 - accuracy: 0.3000\n",
            "Epoch 39/80\n",
            "1/1 [==============================] - 0s 13ms/step - loss: 1.5774 - accuracy: 0.3000\n",
            "Epoch 40/80\n",
            "1/1 [==============================] - 0s 11ms/step - loss: 1.5760 - accuracy: 0.3000\n",
            "Epoch 41/80\n",
            "1/1 [==============================] - 0s 15ms/step - loss: 1.5743 - accuracy: 0.3000\n",
            "Epoch 42/80\n",
            "1/1 [==============================] - 0s 12ms/step - loss: 1.5726 - accuracy: 0.3000\n",
            "Epoch 43/80\n",
            "1/1 [==============================] - 0s 13ms/step - loss: 1.5708 - accuracy: 0.3000\n",
            "Epoch 44/80\n",
            "1/1 [==============================] - 0s 13ms/step - loss: 1.5692 - accuracy: 0.3000\n",
            "Epoch 45/80\n",
            "1/1 [==============================] - 0s 14ms/step - loss: 1.5678 - accuracy: 0.3000\n",
            "Epoch 46/80\n",
            "1/1 [==============================] - 0s 12ms/step - loss: 1.5667 - accuracy: 0.3000\n",
            "Epoch 47/80\n",
            "1/1 [==============================] - 0s 14ms/step - loss: 1.5657 - accuracy: 0.3000\n",
            "Epoch 48/80\n",
            "1/1 [==============================] - 0s 12ms/step - loss: 1.5650 - accuracy: 0.3000\n",
            "Epoch 49/80\n",
            "1/1 [==============================] - 0s 10ms/step - loss: 1.5645 - accuracy: 0.3000\n",
            "Epoch 50/80\n",
            "1/1 [==============================] - 0s 13ms/step - loss: 1.5642 - accuracy: 0.3000\n",
            "Epoch 51/80\n",
            "1/1 [==============================] - 0s 14ms/step - loss: 1.5639 - accuracy: 0.3000\n",
            "Epoch 52/80\n",
            "1/1 [==============================] - 0s 11ms/step - loss: 1.5638 - accuracy: 0.3000\n",
            "Epoch 53/80\n",
            "1/1 [==============================] - 0s 10ms/step - loss: 1.5638 - accuracy: 0.3000\n",
            "Epoch 54/80\n",
            "1/1 [==============================] - 0s 11ms/step - loss: 1.5638 - accuracy: 0.3000\n",
            "Epoch 55/80\n",
            "1/1 [==============================] - 0s 11ms/step - loss: 1.5638 - accuracy: 0.3000\n",
            "Epoch 56/80\n",
            "1/1 [==============================] - 0s 11ms/step - loss: 1.5638 - accuracy: 0.3000\n",
            "Epoch 57/80\n",
            "1/1 [==============================] - 0s 12ms/step - loss: 1.5638 - accuracy: 0.3000\n",
            "Epoch 58/80\n",
            "1/1 [==============================] - 0s 14ms/step - loss: 1.5637 - accuracy: 0.3000\n",
            "Epoch 59/80\n",
            "1/1 [==============================] - 0s 12ms/step - loss: 1.5636 - accuracy: 0.3000\n",
            "Epoch 60/80\n",
            "1/1 [==============================] - 0s 11ms/step - loss: 1.5635 - accuracy: 0.3000\n",
            "Epoch 61/80\n",
            "1/1 [==============================] - 0s 11ms/step - loss: 1.5632 - accuracy: 0.3000\n",
            "Epoch 62/80\n",
            "1/1 [==============================] - 0s 11ms/step - loss: 1.5630 - accuracy: 0.3000\n",
            "Epoch 63/80\n",
            "1/1 [==============================] - 0s 11ms/step - loss: 1.5626 - accuracy: 0.3000\n",
            "Epoch 64/80\n",
            "1/1 [==============================] - 0s 11ms/step - loss: 1.5623 - accuracy: 0.3000\n",
            "Epoch 65/80\n",
            "1/1 [==============================] - 0s 11ms/step - loss: 1.5620 - accuracy: 0.3000\n",
            "Epoch 66/80\n",
            "1/1 [==============================] - 0s 12ms/step - loss: 1.5617 - accuracy: 0.3000\n",
            "Epoch 67/80\n",
            "1/1 [==============================] - 0s 15ms/step - loss: 1.5615 - accuracy: 0.3000\n",
            "Epoch 68/80\n",
            "1/1 [==============================] - 0s 14ms/step - loss: 1.5613 - accuracy: 0.3000\n",
            "Epoch 69/80\n",
            "1/1 [==============================] - 0s 12ms/step - loss: 1.5612 - accuracy: 0.3000\n",
            "Epoch 70/80\n",
            "1/1 [==============================] - 0s 10ms/step - loss: 1.5611 - accuracy: 0.3000\n",
            "Epoch 71/80\n",
            "1/1 [==============================] - 0s 14ms/step - loss: 1.5611 - accuracy: 0.3000\n",
            "Epoch 72/80\n",
            "1/1 [==============================] - 0s 13ms/step - loss: 1.5610 - accuracy: 0.3000\n",
            "Epoch 73/80\n",
            "1/1 [==============================] - 0s 15ms/step - loss: 1.5610 - accuracy: 0.3000\n",
            "Epoch 74/80\n",
            "1/1 [==============================] - 0s 11ms/step - loss: 1.5610 - accuracy: 0.3000\n",
            "Epoch 75/80\n",
            "1/1 [==============================] - 0s 11ms/step - loss: 1.5610 - accuracy: 0.3000\n",
            "Epoch 76/80\n",
            "1/1 [==============================] - 0s 11ms/step - loss: 1.5609 - accuracy: 0.3000\n",
            "Epoch 77/80\n",
            "1/1 [==============================] - 0s 11ms/step - loss: 1.5609 - accuracy: 0.3000\n",
            "Epoch 78/80\n",
            "1/1 [==============================] - 0s 9ms/step - loss: 1.5608 - accuracy: 0.3000\n",
            "Epoch 79/80\n",
            "1/1 [==============================] - 0s 11ms/step - loss: 1.5607 - accuracy: 0.3000\n",
            "Epoch 80/80\n",
            "1/1 [==============================] - 0s 10ms/step - loss: 1.5606 - accuracy: 0.3000\n"
          ]
        },
        {
          "data": {
            "text/plain": [
              "<keras.callbacks.History at 0x200c1da0d60>"
            ]
          },
          "execution_count": 60,
          "metadata": {},
          "output_type": "execute_result"
        }
      ],
      "source": [
        "model.fit(train,labels,epochs = 80)"
      ]
    },
    {
      "cell_type": "code",
      "execution_count": 61,
      "metadata": {
        "colab": {
          "base_uri": "https://localhost:8080/",
          "height": 35
        },
        "colab_type": "code",
        "id": "HaQhBfRhZK80",
        "outputId": "f1c2e8e6-616b-40e1-8ce0-2dce209e42c2"
      },
      "outputs": [],
      "source": [
        "# Saving model\n",
        "\n",
        "model.save('mymodel.h5')\n",
        "tfjs.converters.save_keras_model(model, \"tfjsmodel\")"
      ]
    },
    {
      "cell_type": "code",
      "execution_count": 62,
      "metadata": {},
      "outputs": [
        {
          "name": "stdout",
          "output_type": "stream",
          "text": [
            "alarm_clock\n"
          ]
        }
      ],
      "source": [
        "model2 = keras.models.load_model('./mymodel.h5')\n",
        "p = 'C:\\\\Users\\\\Vidhi\\\\Desktop\\\\major project\\\\Application\\\\data\\\\uploads\\\\elephant\\\\elephant-1648136912076.png'\n",
        "finalimgs = []\n",
        "size = 64,64\n",
        "\n",
        "imgf = cv2.imread(p)\n",
        "imgf = cv2.resize(imgf,size)\n",
        "\n",
        "finalimgs.append(imgf)\n",
        "trainp = np.array(finalimgs)\n",
        "\n",
        "trainp = trainp.astype('float32') / 255.0\n",
        "\n",
        "pred = model2.predict(trainp)\n",
        "cla=np.argmax(pred,axis=1)\n",
        "print(pandas.unique(train_lables)[cla[0]])"
      ]
    }
  ],
  "metadata": {
    "accelerator": "GPU",
    "colab": {
      "collapsed_sections": [],
      "include_colab_link": true,
      "name": "Flower Classification.ipynb",
      "provenance": [],
      "version": "0.3.2"
    },
    "interpreter": {
      "hash": "6a702454195edae8c5d45d3b9db0008165157592e031e3aea62e2374bc2e2b48"
    },
    "kernelspec": {
      "display_name": "Python 3.8.3 64-bit",
      "language": "python",
      "name": "python3"
    },
    "language_info": {
      "codemirror_mode": {
        "name": "ipython",
        "version": 3
      },
      "file_extension": ".py",
      "mimetype": "text/x-python",
      "name": "python",
      "nbconvert_exporter": "python",
      "pygments_lexer": "ipython3",
      "version": "3.8.3"
    }
  },
  "nbformat": 4,
  "nbformat_minor": 0
}
